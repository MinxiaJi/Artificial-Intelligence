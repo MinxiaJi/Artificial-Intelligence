{
 "cells": [
  {
   "cell_type": "code",
   "execution_count": 1,
   "metadata": {
    "collapsed": true
   },
   "outputs": [],
   "source": [
    "import pandas as pd"
   ]
  },
  {
   "cell_type": "code",
   "execution_count": 2,
   "metadata": {
    "collapsed": true
   },
   "outputs": [],
   "source": [
    "def firstnum(info_item):\n",
    "    \"\"\"\n",
    "    Get the index of first number in cpt table\n",
    "    \"\"\"\n",
    "    for i,string in enumerate(info_item):\n",
    "        try:\n",
    "            if float(string):\n",
    "                break\n",
    "        except:\n",
    "            pass\n",
    "        \n",
    "    return i"
   ]
  },
  {
   "cell_type": "code",
   "execution_count": 3,
   "metadata": {
    "collapsed": true
   },
   "outputs": [],
   "source": [
    "def file2dict(Filename):\n",
    "    \"\"\"\n",
    "    Read file and transfer to a dictionary which saves all information\n",
    "    \"\"\"\n",
    "    # load data\n",
    "    data = pd.read_csv(Filename,header = None,delimiter = '\\t')\n",
    "    # split data and save it to a list\n",
    "    info_list=[] \n",
    "    for i in data.index:\n",
    "        info_list.append(data.iloc[i,0].split())\n",
    "    # arrange the information and save it to a list\n",
    "    info_dict={}\n",
    "    for i in info_list:\n",
    "        if 'END' in i:\n",
    "            break\n",
    "        else:\n",
    "            child = i[0]\n",
    "            parents = i[1:firstnum(i)]\n",
    "            cpt = i[firstnum(i):]\n",
    "            info_dict[child]={'parents':parents,'cpt':cpt}\n",
    "    return info_dict"
   ]
  },
  {
   "cell_type": "code",
   "execution_count": 4,
   "metadata": {
    "collapsed": true
   },
   "outputs": [],
   "source": [
    "def construct(info_dict):\n",
    "    \"\"\"\n",
    "    Construct the all possible full joint distributions and \n",
    "    save it as a list named result\n",
    "    \"\"\"\n",
    "    temp = []\n",
    "    result = []\n",
    "    for i in range(2**len(info_dict)):\n",
    "        binary = \"{0:b}\".format(i)\n",
    "        binary = '0'*(len(info_dict)-len(binary))+binary\n",
    "        temp.append(binary)\n",
    "    \n",
    "    for label in temp:\n",
    "        fjd = []\n",
    "        for j,node in enumerate(info_dict):\n",
    "            if label[j]=='1':\n",
    "                fjd.append('n'+node)\n",
    "            else:\n",
    "                fjd.append(node)\n",
    "        result.append(fjd)\n",
    "    return result"
   ]
  },
  {
   "cell_type": "code",
   "execution_count": 12,
   "metadata": {
    "collapsed": true
   },
   "outputs": [],
   "source": [
    "def p_fjd(fjd,info_dict):\n",
    "    \"\"\"\n",
    "    This function is for the computation of each full joint distribution\n",
    "    1.probability\n",
    "    2.number of multiplication\n",
    "    3.number of add\n",
    "    \"\"\"\n",
    "    count_mul = 0\n",
    "    count_add = 0\n",
    "    probs = 1\n",
    "    for i in fjd:\n",
    "    # for situations without n in front of a node\n",
    "        if i[0]!='n':\n",
    "            if 'NONE' in info_dict[i]['parents']:\n",
    "                prob = float(info_dict[i]['cpt'][0])\n",
    "            else:\n",
    "                # find the probability index given all parents\n",
    "                binary = ''\n",
    "                for parent in info_dict[i]['parents']:\n",
    "                    if parent in fjd:\n",
    "                        binary +='0'\n",
    "                    else:\n",
    "                        binary+='1'\n",
    "                decimal = int(binary,2)\n",
    "                prob = float(info_dict[i]['cpt'][decimal])\n",
    "        else:\n",
    "            i = i[1:]\n",
    "            if 'NONE' in info_dict[i]['parents']:\n",
    "                prob = 1.0-float(info_dict[i]['cpt'][0])\n",
    "            else:\n",
    "                binary = ''\n",
    "                for parent in info_dict[i]['parents']:\n",
    "                    if parent in fjd:\n",
    "                        binary +='0'\n",
    "                    else:\n",
    "                        binary+='1'\n",
    "                decimal = int(binary,2)\n",
    "                prob = 1.0- float(info_dict[i]['cpt'][decimal])\n",
    "            count_add+=1\n",
    "        probs *=prob\n",
    "        count_mul+=1\n",
    "    return probs,count_mul,count_add"
   ]
  },
  {
   "cell_type": "code",
   "execution_count": 90,
   "metadata": {},
   "outputs": [],
   "source": [
    "def output(Filename):\n",
    "    info_dict = file2dict(Filename)\n",
    "    fjd_list = construct(info_dict)\n",
    "    \n",
    "    num_fjd = 2**len(info_dict)\n",
    "    num_cpt = 0\n",
    "    num_add = 0\n",
    "    for node in info_dict:\n",
    "        num_cpt += len(info_dict[node]['cpt'])\n",
    "    compactness = float(num_cpt)/float(num_fjd)\n",
    "    \n",
    "    for i in fjd_list:\n",
    "   \n",
    "        p, count_multi, count_add = p_fjd(i,info_dict)\n",
    "\n",
    "        text_file = open(\"Output.txt\", \"a\")\n",
    "        text_file.write(str(fjd)+'\\t'+str(p)+'\\n')\n",
    "\n",
    "    \n",
    "        num_add += count_add\n",
    "    text_file.close()\n",
    "    \n",
    "    num_multi = len(fjd_list)*count_multi\n",
    "    print '------------------------------------------------------'\n",
    "    print 'Bayesian Network                  :\\t'+Filename\n",
    "    print 'Num of lines in joint distribution:\\t',num_fjd\n",
    "    print 'Num of CPT lines                  :\\t',num_cpt\n",
    "    print 'Compactness                       :\\t',compactness\n",
    "    print 'Num multiply operations           :\\t',num_multi\n",
    "    print 'Num add operations                :\\t',num_add\n",
    "    print '------------------------------------------------------'"
   ]
  },
  {
   "cell_type": "code",
   "execution_count": 91,
   "metadata": {},
   "outputs": [
    {
     "name": "stdout",
     "output_type": "stream",
     "text": [
      "------------------------------------------------------\n",
      "Bayesian Network                  :\tC:/Users/youch/Desktop/final_AI/example.txt\n",
      "Num of lines in joint distribution:\t32\n",
      "Num of CPT lines                  :\t10\n",
      "Compactness                       :\t0.3125\n",
      "Num multiply operations           :\t160\n",
      "Num add operations                :\t80\n",
      "------------------------------------------------------\n"
     ]
    }
   ],
   "source": [
    "output('C:/Users/youch/Desktop/final_AI/example.txt')"
   ]
  }
 ],
 "metadata": {
  "kernelspec": {
   "display_name": "Python 2",
   "language": "python",
   "name": "python2"
  },
  "language_info": {
   "codemirror_mode": {
    "name": "ipython",
    "version": 2
   },
   "file_extension": ".py",
   "mimetype": "text/x-python",
   "name": "python",
   "nbconvert_exporter": "python",
   "pygments_lexer": "ipython2",
   "version": "2.7.13"
  }
 },
 "nbformat": 4,
 "nbformat_minor": 2
}
